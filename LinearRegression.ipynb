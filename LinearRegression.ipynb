{
 "cells": [
  {
   "cell_type": "code",
   "execution_count": 1,
   "id": "4a16b80d",
   "metadata": {},
   "outputs": [],
   "source": [
    "import pandas as pd\n",
    "import matplotlib.pyplot as plt\n",
    "import numpy as np \n",
    "from sklearn.metrics import mean_squared_error as mse\n",
    "from sklearn.metrics import mean_absolute_error as mae\n",
    "from sklearn.linear_model import LinearRegression, Ridge\n",
    "from sklearn.model_selection import train_test_split\n",
    "from sklearn.preprocessing import StandardScaler\n",
    "from sklearn.metrics import r2_score"
   ]
  },
  {
   "cell_type": "code",
   "execution_count": 2,
   "id": "15ce19c4",
   "metadata": {
    "scrolled": true
   },
   "outputs": [],
   "source": [
    "cpd = pd.read_csv('housing.csv')\n",
    "cpd1 = cpd.drop('total_bedrooms',axis=1)"
   ]
  },
  {
   "cell_type": "code",
   "execution_count": 3,
   "id": "9d5a9522",
   "metadata": {},
   "outputs": [
    {
     "data": {
      "text/html": [
       "<div>\n",
       "<style scoped>\n",
       "    .dataframe tbody tr th:only-of-type {\n",
       "        vertical-align: middle;\n",
       "    }\n",
       "\n",
       "    .dataframe tbody tr th {\n",
       "        vertical-align: top;\n",
       "    }\n",
       "\n",
       "    .dataframe thead th {\n",
       "        text-align: right;\n",
       "    }\n",
       "</style>\n",
       "<table border=\"1\" class=\"dataframe\">\n",
       "  <thead>\n",
       "    <tr style=\"text-align: right;\">\n",
       "      <th></th>\n",
       "      <th>longitude</th>\n",
       "      <th>latitude</th>\n",
       "      <th>housing_median_age</th>\n",
       "      <th>total_rooms</th>\n",
       "      <th>population</th>\n",
       "      <th>households</th>\n",
       "      <th>median_income</th>\n",
       "      <th>median_house_value</th>\n",
       "      <th>ocean_proximity</th>\n",
       "    </tr>\n",
       "  </thead>\n",
       "  <tbody>\n",
       "    <tr>\n",
       "      <th>0</th>\n",
       "      <td>-122.23</td>\n",
       "      <td>37.88</td>\n",
       "      <td>41.0</td>\n",
       "      <td>880.0</td>\n",
       "      <td>322.0</td>\n",
       "      <td>126.0</td>\n",
       "      <td>8.3252</td>\n",
       "      <td>452600.0</td>\n",
       "      <td>NEAR BAY</td>\n",
       "    </tr>\n",
       "    <tr>\n",
       "      <th>1</th>\n",
       "      <td>-122.22</td>\n",
       "      <td>37.86</td>\n",
       "      <td>21.0</td>\n",
       "      <td>7099.0</td>\n",
       "      <td>2401.0</td>\n",
       "      <td>1138.0</td>\n",
       "      <td>8.3014</td>\n",
       "      <td>358500.0</td>\n",
       "      <td>NEAR BAY</td>\n",
       "    </tr>\n",
       "    <tr>\n",
       "      <th>2</th>\n",
       "      <td>-122.24</td>\n",
       "      <td>37.85</td>\n",
       "      <td>52.0</td>\n",
       "      <td>1467.0</td>\n",
       "      <td>496.0</td>\n",
       "      <td>177.0</td>\n",
       "      <td>7.2574</td>\n",
       "      <td>352100.0</td>\n",
       "      <td>NEAR BAY</td>\n",
       "    </tr>\n",
       "    <tr>\n",
       "      <th>3</th>\n",
       "      <td>-122.25</td>\n",
       "      <td>37.85</td>\n",
       "      <td>52.0</td>\n",
       "      <td>1274.0</td>\n",
       "      <td>558.0</td>\n",
       "      <td>219.0</td>\n",
       "      <td>5.6431</td>\n",
       "      <td>341300.0</td>\n",
       "      <td>NEAR BAY</td>\n",
       "    </tr>\n",
       "    <tr>\n",
       "      <th>4</th>\n",
       "      <td>-122.25</td>\n",
       "      <td>37.85</td>\n",
       "      <td>52.0</td>\n",
       "      <td>1627.0</td>\n",
       "      <td>565.0</td>\n",
       "      <td>259.0</td>\n",
       "      <td>3.8462</td>\n",
       "      <td>342200.0</td>\n",
       "      <td>NEAR BAY</td>\n",
       "    </tr>\n",
       "    <tr>\n",
       "      <th>...</th>\n",
       "      <td>...</td>\n",
       "      <td>...</td>\n",
       "      <td>...</td>\n",
       "      <td>...</td>\n",
       "      <td>...</td>\n",
       "      <td>...</td>\n",
       "      <td>...</td>\n",
       "      <td>...</td>\n",
       "      <td>...</td>\n",
       "    </tr>\n",
       "    <tr>\n",
       "      <th>20635</th>\n",
       "      <td>-121.09</td>\n",
       "      <td>39.48</td>\n",
       "      <td>25.0</td>\n",
       "      <td>1665.0</td>\n",
       "      <td>845.0</td>\n",
       "      <td>330.0</td>\n",
       "      <td>1.5603</td>\n",
       "      <td>78100.0</td>\n",
       "      <td>INLAND</td>\n",
       "    </tr>\n",
       "    <tr>\n",
       "      <th>20636</th>\n",
       "      <td>-121.21</td>\n",
       "      <td>39.49</td>\n",
       "      <td>18.0</td>\n",
       "      <td>697.0</td>\n",
       "      <td>356.0</td>\n",
       "      <td>114.0</td>\n",
       "      <td>2.5568</td>\n",
       "      <td>77100.0</td>\n",
       "      <td>INLAND</td>\n",
       "    </tr>\n",
       "    <tr>\n",
       "      <th>20637</th>\n",
       "      <td>-121.22</td>\n",
       "      <td>39.43</td>\n",
       "      <td>17.0</td>\n",
       "      <td>2254.0</td>\n",
       "      <td>1007.0</td>\n",
       "      <td>433.0</td>\n",
       "      <td>1.7000</td>\n",
       "      <td>92300.0</td>\n",
       "      <td>INLAND</td>\n",
       "    </tr>\n",
       "    <tr>\n",
       "      <th>20638</th>\n",
       "      <td>-121.32</td>\n",
       "      <td>39.43</td>\n",
       "      <td>18.0</td>\n",
       "      <td>1860.0</td>\n",
       "      <td>741.0</td>\n",
       "      <td>349.0</td>\n",
       "      <td>1.8672</td>\n",
       "      <td>84700.0</td>\n",
       "      <td>INLAND</td>\n",
       "    </tr>\n",
       "    <tr>\n",
       "      <th>20639</th>\n",
       "      <td>-121.24</td>\n",
       "      <td>39.37</td>\n",
       "      <td>16.0</td>\n",
       "      <td>2785.0</td>\n",
       "      <td>1387.0</td>\n",
       "      <td>530.0</td>\n",
       "      <td>2.3886</td>\n",
       "      <td>89400.0</td>\n",
       "      <td>INLAND</td>\n",
       "    </tr>\n",
       "  </tbody>\n",
       "</table>\n",
       "<p>20640 rows × 9 columns</p>\n",
       "</div>"
      ],
      "text/plain": [
       "       longitude  latitude  housing_median_age  total_rooms  population  \\\n",
       "0        -122.23     37.88                41.0        880.0       322.0   \n",
       "1        -122.22     37.86                21.0       7099.0      2401.0   \n",
       "2        -122.24     37.85                52.0       1467.0       496.0   \n",
       "3        -122.25     37.85                52.0       1274.0       558.0   \n",
       "4        -122.25     37.85                52.0       1627.0       565.0   \n",
       "...          ...       ...                 ...          ...         ...   \n",
       "20635    -121.09     39.48                25.0       1665.0       845.0   \n",
       "20636    -121.21     39.49                18.0        697.0       356.0   \n",
       "20637    -121.22     39.43                17.0       2254.0      1007.0   \n",
       "20638    -121.32     39.43                18.0       1860.0       741.0   \n",
       "20639    -121.24     39.37                16.0       2785.0      1387.0   \n",
       "\n",
       "       households  median_income  median_house_value ocean_proximity  \n",
       "0           126.0         8.3252            452600.0        NEAR BAY  \n",
       "1          1138.0         8.3014            358500.0        NEAR BAY  \n",
       "2           177.0         7.2574            352100.0        NEAR BAY  \n",
       "3           219.0         5.6431            341300.0        NEAR BAY  \n",
       "4           259.0         3.8462            342200.0        NEAR BAY  \n",
       "...           ...            ...                 ...             ...  \n",
       "20635       330.0         1.5603             78100.0          INLAND  \n",
       "20636       114.0         2.5568             77100.0          INLAND  \n",
       "20637       433.0         1.7000             92300.0          INLAND  \n",
       "20638       349.0         1.8672             84700.0          INLAND  \n",
       "20639       530.0         2.3886             89400.0          INLAND  \n",
       "\n",
       "[20640 rows x 9 columns]"
      ]
     },
     "execution_count": 3,
     "metadata": {},
     "output_type": "execute_result"
    }
   ],
   "source": [
    "cpd1"
   ]
  },
  {
   "cell_type": "code",
   "execution_count": 4,
   "id": "bb45c50d",
   "metadata": {},
   "outputs": [
    {
     "data": {
      "image/png": "[encoded data removed]",
      "text/plain": [
       "<Figure size 1080x720 with 9 Axes>"
      ]
     },
     "metadata": {
      "needs_background": "light"
     },
     "output_type": "display_data"
    }
   ],
   "source": [
    "cpd1.hist(figsize=(15,10))\n",
    "plt.show()"
   ]
  },
  {
   "cell_type": "code",
   "execution_count": 5,
   "id": "efc494aa",
   "metadata": {},
   "outputs": [
    {
     "data": {
      "text/html": [
       "<div>\n",
       "<style scoped>\n",
       "    .dataframe tbody tr th:only-of-type {\n",
       "        vertical-align: middle;\n",
       "    }\n",
       "\n",
       "    .dataframe tbody tr th {\n",
       "        vertical-align: top;\n",
       "    }\n",
       "\n",
       "    .dataframe thead th {\n",
       "        text-align: right;\n",
       "    }\n",
       "</style>\n",
       "<table border=\"1\" class=\"dataframe\">\n",
       "  <thead>\n",
       "    <tr style=\"text-align: right;\">\n",
       "      <th></th>\n",
       "      <th>longitude</th>\n",
       "      <th>latitude</th>\n",
       "      <th>housing_median_age</th>\n",
       "      <th>total_rooms</th>\n",
       "      <th>population</th>\n",
       "      <th>households</th>\n",
       "      <th>median_income</th>\n",
       "      <th>median_house_value</th>\n",
       "      <th>ocean_proximity</th>\n",
       "    </tr>\n",
       "  </thead>\n",
       "  <tbody>\n",
       "    <tr>\n",
       "      <th>4712</th>\n",
       "      <td>-118.36</td>\n",
       "      <td>34.06</td>\n",
       "      <td>39.0</td>\n",
       "      <td>2810.0</td>\n",
       "      <td>1109.0</td>\n",
       "      <td>624.0</td>\n",
       "      <td>3.2500</td>\n",
       "      <td>355000.0</td>\n",
       "      <td>&lt;1H OCEAN</td>\n",
       "    </tr>\n",
       "    <tr>\n",
       "      <th>2151</th>\n",
       "      <td>-119.78</td>\n",
       "      <td>36.78</td>\n",
       "      <td>37.0</td>\n",
       "      <td>2185.0</td>\n",
       "      <td>1143.0</td>\n",
       "      <td>438.0</td>\n",
       "      <td>1.9784</td>\n",
       "      <td>70700.0</td>\n",
       "      <td>INLAND</td>\n",
       "    </tr>\n",
       "    <tr>\n",
       "      <th>15927</th>\n",
       "      <td>-122.42</td>\n",
       "      <td>37.73</td>\n",
       "      <td>46.0</td>\n",
       "      <td>1819.0</td>\n",
       "      <td>1534.0</td>\n",
       "      <td>406.0</td>\n",
       "      <td>4.0132</td>\n",
       "      <td>229400.0</td>\n",
       "      <td>NEAR BAY</td>\n",
       "    </tr>\n",
       "    <tr>\n",
       "      <th>82</th>\n",
       "      <td>-122.28</td>\n",
       "      <td>37.81</td>\n",
       "      <td>52.0</td>\n",
       "      <td>340.0</td>\n",
       "      <td>200.0</td>\n",
       "      <td>87.0</td>\n",
       "      <td>1.5208</td>\n",
       "      <td>112500.0</td>\n",
       "      <td>NEAR BAY</td>\n",
       "    </tr>\n",
       "    <tr>\n",
       "      <th>8161</th>\n",
       "      <td>-118.13</td>\n",
       "      <td>33.82</td>\n",
       "      <td>37.0</td>\n",
       "      <td>1530.0</td>\n",
       "      <td>711.0</td>\n",
       "      <td>283.0</td>\n",
       "      <td>5.1795</td>\n",
       "      <td>225400.0</td>\n",
       "      <td>&lt;1H OCEAN</td>\n",
       "    </tr>\n",
       "    <tr>\n",
       "      <th>...</th>\n",
       "      <td>...</td>\n",
       "      <td>...</td>\n",
       "      <td>...</td>\n",
       "      <td>...</td>\n",
       "      <td>...</td>\n",
       "      <td>...</td>\n",
       "      <td>...</td>\n",
       "      <td>...</td>\n",
       "      <td>...</td>\n",
       "    </tr>\n",
       "    <tr>\n",
       "      <th>10955</th>\n",
       "      <td>-117.88</td>\n",
       "      <td>33.76</td>\n",
       "      <td>17.0</td>\n",
       "      <td>1768.0</td>\n",
       "      <td>1079.0</td>\n",
       "      <td>436.0</td>\n",
       "      <td>1.7823</td>\n",
       "      <td>205300.0</td>\n",
       "      <td>&lt;1H OCEAN</td>\n",
       "    </tr>\n",
       "    <tr>\n",
       "      <th>17289</th>\n",
       "      <td>-119.63</td>\n",
       "      <td>34.42</td>\n",
       "      <td>42.0</td>\n",
       "      <td>1765.0</td>\n",
       "      <td>753.0</td>\n",
       "      <td>260.0</td>\n",
       "      <td>8.5608</td>\n",
       "      <td>500001.0</td>\n",
       "      <td>&lt;1H OCEAN</td>\n",
       "    </tr>\n",
       "    <tr>\n",
       "      <th>5192</th>\n",
       "      <td>-118.26</td>\n",
       "      <td>33.93</td>\n",
       "      <td>42.0</td>\n",
       "      <td>1433.0</td>\n",
       "      <td>775.0</td>\n",
       "      <td>293.0</td>\n",
       "      <td>1.1326</td>\n",
       "      <td>104800.0</td>\n",
       "      <td>&lt;1H OCEAN</td>\n",
       "    </tr>\n",
       "    <tr>\n",
       "      <th>12172</th>\n",
       "      <td>-117.16</td>\n",
       "      <td>33.73</td>\n",
       "      <td>10.0</td>\n",
       "      <td>2381.0</td>\n",
       "      <td>1323.0</td>\n",
       "      <td>477.0</td>\n",
       "      <td>2.6322</td>\n",
       "      <td>140700.0</td>\n",
       "      <td>INLAND</td>\n",
       "    </tr>\n",
       "    <tr>\n",
       "      <th>235</th>\n",
       "      <td>-122.20</td>\n",
       "      <td>37.79</td>\n",
       "      <td>35.0</td>\n",
       "      <td>1802.0</td>\n",
       "      <td>1009.0</td>\n",
       "      <td>390.0</td>\n",
       "      <td>2.3036</td>\n",
       "      <td>126000.0</td>\n",
       "      <td>NEAR BAY</td>\n",
       "    </tr>\n",
       "  </tbody>\n",
       "</table>\n",
       "<p>20640 rows × 9 columns</p>\n",
       "</div>"
      ],
      "text/plain": [
       "       longitude  latitude  housing_median_age  total_rooms  population  \\\n",
       "4712     -118.36     34.06                39.0       2810.0      1109.0   \n",
       "2151     -119.78     36.78                37.0       2185.0      1143.0   \n",
       "15927    -122.42     37.73                46.0       1819.0      1534.0   \n",
       "82       -122.28     37.81                52.0        340.0       200.0   \n",
       "8161     -118.13     33.82                37.0       1530.0       711.0   \n",
       "...          ...       ...                 ...          ...         ...   \n",
       "10955    -117.88     33.76                17.0       1768.0      1079.0   \n",
       "17289    -119.63     34.42                42.0       1765.0       753.0   \n",
       "5192     -118.26     33.93                42.0       1433.0       775.0   \n",
       "12172    -117.16     33.73                10.0       2381.0      1323.0   \n",
       "235      -122.20     37.79                35.0       1802.0      1009.0   \n",
       "\n",
       "       households  median_income  median_house_value ocean_proximity  \n",
       "4712        624.0         3.2500            355000.0       <1H OCEAN  \n",
       "2151        438.0         1.9784             70700.0          INLAND  \n",
       "15927       406.0         4.0132            229400.0        NEAR BAY  \n",
       "82           87.0         1.5208            112500.0        NEAR BAY  \n",
       "8161        283.0         5.1795            225400.0       <1H OCEAN  \n",
       "...           ...            ...                 ...             ...  \n",
       "10955       436.0         1.7823            205300.0       <1H OCEAN  \n",
       "17289       260.0         8.5608            500001.0       <1H OCEAN  \n",
       "5192        293.0         1.1326            104800.0       <1H OCEAN  \n",
       "12172       477.0         2.6322            140700.0          INLAND  \n",
       "235         390.0         2.3036            126000.0        NEAR BAY  \n",
       "\n",
       "[20640 rows x 9 columns]"
      ]
     },
     "execution_count": 5,
     "metadata": {},
     "output_type": "execute_result"
    }
   ],
   "source": [
    "#shuffling the dataset\n",
    "cpd_shuffle = cpd1.sample(n=len(cpd), random_state=1)\n",
    "cpd_shuffle"
   ]
  },
  {
   "cell_type": "code",
   "execution_count": 6,
   "id": "e0d94588",
   "metadata": {},
   "outputs": [
    {
     "name": "stdout",
     "output_type": "stream",
     "text": [
      "Distinct values of ocean_proximity:\n",
      "\n",
      "['NEAR BAY' '<1H OCEAN' 'INLAND' 'NEAR OCEAN' 'ISLAND']\n"
     ]
    }
   ],
   "source": [
    "ocean_proximity = cpd1['ocean_proximity']\n",
    "print(\"Distinct values of ocean_proximity:\\n\")\n",
    "d=pd.unique(ocean_proximity)\n",
    "print(d)"
   ]
  },
  {
   "cell_type": "code",
   "execution_count": 7,
   "id": "9748f50a",
   "metadata": {},
   "outputs": [
    {
     "name": "stdout",
     "output_type": "stream",
     "text": [
      "new distinct values of ocean_proxinity\n",
      "\n",
      "[2 3 1 4 5]\n"
     ]
    }
   ],
   "source": [
    "def ocpn_func(v):\n",
    "    for ii, i in enumerate(d):\n",
    "        if i==v:\n",
    "            return ii+1\n",
    "        \n",
    "cpd_shuffle['opn'] = cpd_shuffle['ocean_proximity'].apply(ocpn_func)\n",
    "print(\"new distinct values of ocean_proxinity\\n\")\n",
    "print(pd.unique(cpd_shuffle['opn']))"
   ]
  },
  {
   "cell_type": "code",
   "execution_count": 8,
   "id": "2873f55b",
   "metadata": {},
   "outputs": [
    {
     "data": {
      "text/html": [
       "<div>\n",
       "<style scoped>\n",
       "    .dataframe tbody tr th:only-of-type {\n",
       "        vertical-align: middle;\n",
       "    }\n",
       "\n",
       "    .dataframe tbody tr th {\n",
       "        vertical-align: top;\n",
       "    }\n",
       "\n",
       "    .dataframe thead th {\n",
       "        text-align: right;\n",
       "    }\n",
       "</style>\n",
       "<table border=\"1\" class=\"dataframe\">\n",
       "  <thead>\n",
       "    <tr style=\"text-align: right;\">\n",
       "      <th></th>\n",
       "      <th>longitude</th>\n",
       "      <th>latitude</th>\n",
       "      <th>housing_median_age</th>\n",
       "      <th>total_rooms</th>\n",
       "      <th>population</th>\n",
       "      <th>households</th>\n",
       "      <th>median_income</th>\n",
       "      <th>median_house_value</th>\n",
       "      <th>ocean_proximity</th>\n",
       "      <th>opn</th>\n",
       "    </tr>\n",
       "  </thead>\n",
       "  <tbody>\n",
       "    <tr>\n",
       "      <th>4712</th>\n",
       "      <td>-118.36</td>\n",
       "      <td>34.06</td>\n",
       "      <td>39.0</td>\n",
       "      <td>2810.0</td>\n",
       "      <td>1109.0</td>\n",
       "      <td>624.0</td>\n",
       "      <td>3.2500</td>\n",
       "      <td>355000.0</td>\n",
       "      <td>&lt;1H OCEAN</td>\n",
       "      <td>2</td>\n",
       "    </tr>\n",
       "    <tr>\n",
       "      <th>2151</th>\n",
       "      <td>-119.78</td>\n",
       "      <td>36.78</td>\n",
       "      <td>37.0</td>\n",
       "      <td>2185.0</td>\n",
       "      <td>1143.0</td>\n",
       "      <td>438.0</td>\n",
       "      <td>1.9784</td>\n",
       "      <td>70700.0</td>\n",
       "      <td>INLAND</td>\n",
       "      <td>3</td>\n",
       "    </tr>\n",
       "    <tr>\n",
       "      <th>15927</th>\n",
       "      <td>-122.42</td>\n",
       "      <td>37.73</td>\n",
       "      <td>46.0</td>\n",
       "      <td>1819.0</td>\n",
       "      <td>1534.0</td>\n",
       "      <td>406.0</td>\n",
       "      <td>4.0132</td>\n",
       "      <td>229400.0</td>\n",
       "      <td>NEAR BAY</td>\n",
       "      <td>1</td>\n",
       "    </tr>\n",
       "    <tr>\n",
       "      <th>82</th>\n",
       "      <td>-122.28</td>\n",
       "      <td>37.81</td>\n",
       "      <td>52.0</td>\n",
       "      <td>340.0</td>\n",
       "      <td>200.0</td>\n",
       "      <td>87.0</td>\n",
       "      <td>1.5208</td>\n",
       "      <td>112500.0</td>\n",
       "      <td>NEAR BAY</td>\n",
       "      <td>1</td>\n",
       "    </tr>\n",
       "    <tr>\n",
       "      <th>8161</th>\n",
       "      <td>-118.13</td>\n",
       "      <td>33.82</td>\n",
       "      <td>37.0</td>\n",
       "      <td>1530.0</td>\n",
       "      <td>711.0</td>\n",
       "      <td>283.0</td>\n",
       "      <td>5.1795</td>\n",
       "      <td>225400.0</td>\n",
       "      <td>&lt;1H OCEAN</td>\n",
       "      <td>2</td>\n",
       "    </tr>\n",
       "  </tbody>\n",
       "</table>\n",
       "</div>"
      ],
      "text/plain": [
       "       longitude  latitude  housing_median_age  total_rooms  population  \\\n",
       "4712     -118.36     34.06                39.0       2810.0      1109.0   \n",
       "2151     -119.78     36.78                37.0       2185.0      1143.0   \n",
       "15927    -122.42     37.73                46.0       1819.0      1534.0   \n",
       "82       -122.28     37.81                52.0        340.0       200.0   \n",
       "8161     -118.13     33.82                37.0       1530.0       711.0   \n",
       "\n",
       "       households  median_income  median_house_value ocean_proximity  opn  \n",
       "4712        624.0         3.2500            355000.0       <1H OCEAN    2  \n",
       "2151        438.0         1.9784             70700.0          INLAND    3  \n",
       "15927       406.0         4.0132            229400.0        NEAR BAY    1  \n",
       "82           87.0         1.5208            112500.0        NEAR BAY    1  \n",
       "8161        283.0         5.1795            225400.0       <1H OCEAN    2  "
      ]
     },
     "execution_count": 8,
     "metadata": {},
     "output_type": "execute_result"
    }
   ],
   "source": [
    "cpd_shuffle.head()"
   ]
  },
  {
   "cell_type": "code",
   "execution_count": 9,
   "id": "c87f1ac4",
   "metadata": {},
   "outputs": [
    {
     "data": {
      "text/html": [
       "<div>\n",
       "<style scoped>\n",
       "    .dataframe tbody tr th:only-of-type {\n",
       "        vertical-align: middle;\n",
       "    }\n",
       "\n",
       "    .dataframe tbody tr th {\n",
       "        vertical-align: top;\n",
       "    }\n",
       "\n",
       "    .dataframe thead th {\n",
       "        text-align: right;\n",
       "    }\n",
       "</style>\n",
       "<table border=\"1\" class=\"dataframe\">\n",
       "  <thead>\n",
       "    <tr style=\"text-align: right;\">\n",
       "      <th></th>\n",
       "      <th>longitude</th>\n",
       "      <th>latitude</th>\n",
       "      <th>housing_median_age</th>\n",
       "      <th>total_rooms</th>\n",
       "      <th>population</th>\n",
       "      <th>households</th>\n",
       "      <th>median_income</th>\n",
       "      <th>median_house_value</th>\n",
       "      <th>opn</th>\n",
       "    </tr>\n",
       "  </thead>\n",
       "  <tbody>\n",
       "    <tr>\n",
       "      <th>4712</th>\n",
       "      <td>-118.36</td>\n",
       "      <td>34.06</td>\n",
       "      <td>39.0</td>\n",
       "      <td>2810.0</td>\n",
       "      <td>1109.0</td>\n",
       "      <td>624.0</td>\n",
       "      <td>3.2500</td>\n",
       "      <td>355000.0</td>\n",
       "      <td>2</td>\n",
       "    </tr>\n",
       "    <tr>\n",
       "      <th>2151</th>\n",
       "      <td>-119.78</td>\n",
       "      <td>36.78</td>\n",
       "      <td>37.0</td>\n",
       "      <td>2185.0</td>\n",
       "      <td>1143.0</td>\n",
       "      <td>438.0</td>\n",
       "      <td>1.9784</td>\n",
       "      <td>70700.0</td>\n",
       "      <td>3</td>\n",
       "    </tr>\n",
       "    <tr>\n",
       "      <th>15927</th>\n",
       "      <td>-122.42</td>\n",
       "      <td>37.73</td>\n",
       "      <td>46.0</td>\n",
       "      <td>1819.0</td>\n",
       "      <td>1534.0</td>\n",
       "      <td>406.0</td>\n",
       "      <td>4.0132</td>\n",
       "      <td>229400.0</td>\n",
       "      <td>1</td>\n",
       "    </tr>\n",
       "    <tr>\n",
       "      <th>82</th>\n",
       "      <td>-122.28</td>\n",
       "      <td>37.81</td>\n",
       "      <td>52.0</td>\n",
       "      <td>340.0</td>\n",
       "      <td>200.0</td>\n",
       "      <td>87.0</td>\n",
       "      <td>1.5208</td>\n",
       "      <td>112500.0</td>\n",
       "      <td>1</td>\n",
       "    </tr>\n",
       "    <tr>\n",
       "      <th>8161</th>\n",
       "      <td>-118.13</td>\n",
       "      <td>33.82</td>\n",
       "      <td>37.0</td>\n",
       "      <td>1530.0</td>\n",
       "      <td>711.0</td>\n",
       "      <td>283.0</td>\n",
       "      <td>5.1795</td>\n",
       "      <td>225400.0</td>\n",
       "      <td>2</td>\n",
       "    </tr>\n",
       "  </tbody>\n",
       "</table>\n",
       "</div>"
      ],
      "text/plain": [
       "       longitude  latitude  housing_median_age  total_rooms  population  \\\n",
       "4712     -118.36     34.06                39.0       2810.0      1109.0   \n",
       "2151     -119.78     36.78                37.0       2185.0      1143.0   \n",
       "15927    -122.42     37.73                46.0       1819.0      1534.0   \n",
       "82       -122.28     37.81                52.0        340.0       200.0   \n",
       "8161     -118.13     33.82                37.0       1530.0       711.0   \n",
       "\n",
       "       households  median_income  median_house_value  opn  \n",
       "4712        624.0         3.2500            355000.0    2  \n",
       "2151        438.0         1.9784             70700.0    3  \n",
       "15927       406.0         4.0132            229400.0    1  \n",
       "82           87.0         1.5208            112500.0    1  \n",
       "8161        283.0         5.1795            225400.0    2  "
      ]
     },
     "execution_count": 9,
     "metadata": {},
     "output_type": "execute_result"
    }
   ],
   "source": [
    "cpd_shuffle = cpd_shuffle.drop(['ocean_proximity'], axis=1)\n",
    "cpd_shuffle.head()"
   ]
  },
  {
   "cell_type": "code",
   "execution_count": 10,
   "id": "52e47214",
   "metadata": {},
   "outputs": [],
   "source": [
    "cpd_shuffle = cpd_shuffle.dropna()"
   ]
  },
  {
   "cell_type": "code",
   "execution_count": 11,
   "id": "5b12cb50",
   "metadata": {},
   "outputs": [],
   "source": [
    "cpd_col = list(cpd_shuffle.columns)\n",
    "cpd_shuffle[cpd_col] = StandardScaler().fit_transform(cpd_shuffle[cpd_col])"
   ]
  },
  {
   "cell_type": "code",
   "execution_count": 12,
   "id": "446ffd62",
   "metadata": {},
   "outputs": [],
   "source": [
    "def lr_individual_features(train_data):\n",
    "    X = cpd_shuffle[train_data]\n",
    "    y = cpd_shuffle['median_house_value']\n",
    "    X_train, X_test,y_train ,y_test = train_test_split(X,y,test_size=0.3)\n",
    "  \n",
    "    lr = LinearRegression().fit(np.array(X_train).reshape(-1,1), y_train)\n",
    "\n",
    "    p_val = lr.predict(np.array(X_test).reshape(-1,1))\n",
    "\n",
    "    r = p_val - y_test\n",
    "\n",
    "    plt.hist(r)\n",
    "    plt.show()\n",
    "    \n",
    "    ma = mae(y_test, p_val)\n",
    "    m = mse(y_test, p_val) ** 0.5\n",
    "    #find sse by hand\n",
    "    mean_of_values = np.mean(p_val)\n",
    "\n",
    "    dv = []\n",
    "    for v in p_val:\n",
    "        dv.append(v - mean_of_values)\n",
    "\n",
    "    dv2 = []\n",
    "    for v in dv:\n",
    "        dv2.append(v**2)\n",
    "    \n",
    "    sse = (np.sum(dv2)) ** 0.5\n",
    "    \n",
    "    \n",
    "    r2 = r2_score(y_test, p_val)\n",
    "    \n",
    "    print(\"median_house_values and  \" +train_data+\" :\")\n",
    "    print(\"coffecients: \"+  str(lr.coef_))\n",
    "    print(\"Mean absolute error: \"+  str(ma))\n",
    "    print(\"Mean squared error: \"+  str(m))\n",
    "    print(\"Sum Squared error: \"+  str(sse))\n",
    "    print(\"R Squared score: \"+  str(r2))\n",
    "    print(\"\")\n",
    "    \n",
    "    plt.scatter(X_test,y_test, color=\"blue\")\n",
    "    plt.plot(X_test,p_val, color=\"orange\")\n",
    "    plt.show()"
   ]
  },
  {
   "cell_type": "code",
   "execution_count": 13,
   "id": "22395424",
   "metadata": {},
   "outputs": [
    {
     "name": "stdout",
     "output_type": "stream",
     "text": [
      "Index(['longitude', 'latitude', 'housing_median_age', 'total_rooms',\n",
      "       'population', 'households', 'median_income', 'median_house_value',\n",
      "       'opn'],\n",
      "      dtype='object')\n"
     ]
    }
   ],
   "source": [
    "print(cpd_shuffle.columns)"
   ]
  },
  {
   "cell_type": "code",
   "execution_count": 14,
   "id": "62fa288d",
   "metadata": {},
   "outputs": [],
   "source": [
    "def multiv_regression():\n",
    "    X = cpd_shuffle.loc[:,cpd_shuffle.columns!='median_house_value']\n",
    "    y = cpd_shuffle['median_house_value']\n",
    "    X_train, X_test,y_train ,y_test = train_test_split(X,y,test_size=0.3)\n",
    "    print(X_train)\n",
    "    lr = LinearRegression()\n",
    "    lr.fit(np.array(X_train).reshape(-1,8), np.array(y_train).reshape(-1,1))\n",
    "\n",
    "    p_val = lr.predict(np.array(X_test).reshape(-1,8))\n",
    "    \n",
    "    res = p_val -  np.array(y_test).reshape(-1,1)\n",
    "\n",
    "    plt.hist(res)\n",
    "    plt.show()\n",
    "    \n",
    "    mean_absolute = mae(y_test, p_val)\n",
    "    mean_squared = mse(y_test, p_val) ** 0.5\n",
    "    mean_of_values = np.mean(p_val)\n",
    "\n",
    "    d_vals = []\n",
    "    for val in p_val:\n",
    "        d_vals.append(val - mean_of_values)\n",
    "\n",
    "    daviation_of_values2 = []\n",
    "    for val in d_vals:\n",
    "        daviation_of_values2.append(val**2)\n",
    "    \n",
    "    ss_e = (np.sum(daviation_of_values2)) ** 0.5\n",
    "    \n",
    "    \n",
    "    r_2 = r2_score(y_test, p_val)\n",
    "    \n",
    "    print(\"median_house_values and all features\")\n",
    "    print(\"coffecients: \"+  str(lr.coef_))\n",
    "    print(\"Mean absolute error: \"+  str(mean_absolute))\n",
    "    print(\"Mean squared error: \"+  str(mean_squared))\n",
    "    print(\"Sum Squared error: \"+  str(ss_e))\n",
    "    print(\"R Squared score: \"+  str(r_2))\n",
    "    print(\"\")\n",
    "    \n",
    "    \n",
    "    xTestPlot = np.array(X_test).reshape(-1,8)\n",
    "\n",
    "    plt.scatter(xTestPlot[:,0], y_test, color=\"green\")\n",
    "    plt.scatter(xTestPlot[:,1], y_test, color=\"orange\")\n",
    "    plt.scatter(xTestPlot[:,2], y_test, color=\"purple\")\n",
    "    plt.scatter(xTestPlot[:,3], y_test, color=\"blue\")\n",
    "    plt.scatter(xTestPlot[:,4], y_test, color=\"yellow\")\n",
    "    plt.scatter(xTestPlot[:,5], y_test, color=\"cyan\")\n",
    "    plt.scatter(xTestPlot[:,6], y_test, color=\"grey\")\n",
    "    plt.scatter(xTestPlot[:,7], y_test, color=\"pink\")\n",
    "    \n",
    "    plt.plot(xTestPlot, p_val, color=\"red\")\n",
    "    plt.show()"
   ]
  },
  {
   "cell_type": "code",
   "execution_count": 15,
   "id": "15a15af1",
   "metadata": {
    "scrolled": true
   },
   "outputs": [
    {
     "data": {
      "image/png": "[encoded data removed]",
      "text/plain": [
       "<Figure size 432x288 with 1 Axes>"
      ]
     },
     "metadata": {
      "needs_background": "light"
     },
     "output_type": "display_data"
    },
    {
     "name": "stdout",
     "output_type": "stream",
     "text": [
      "median_house_values and  longitude :\n",
      "coffecients: [-0.03708928]\n",
      "Mean absolute error: 0.7942691275305328\n",
      "Mean squared error: 1.0041529343190385\n",
      "Sum Squared error: 2.933469182439904\n",
      "R Squared score: 0.0034534346001654503\n",
      "\n"
     ]
    },
    {
     "data": {
      "image/png": "[encoded data removed]",
      "text/plain": [
       "<Figure size 432x288 with 1 Axes>"
      ]
     },
     "metadata": {
      "needs_background": "light"
     },
     "output_type": "display_data"
    },
    {
     "data": {
      "image/png": "[encoded data removed]",
      "text/plain": [
       "<Figure size 432x288 with 1 Axes>"
      ]
     },
     "metadata": {
      "needs_background": "light"
     },
     "output_type": "display_data"
    },
    {
     "name": "stdout",
     "output_type": "stream",
     "text": [
      "median_house_values and  latitude :\n",
      "coffecients: [-0.14188806]\n",
      "Mean absolute error: 0.7839480186832274\n",
      "Mean squared error: 0.9909986315104806\n",
      "Sum Squared error: 11.182807343005795\n",
      "R Squared score: 0.022242154468903874\n",
      "\n"
     ]
    },
    {
     "data": {
      "image/png": "[encoded data removed]",
      "text/plain": [
       "<Figure size 432x288 with 1 Axes>"
      ]
     },
     "metadata": {
      "needs_background": "light"
     },
     "output_type": "display_data"
    },
    {
     "data": {
      "image/png": "[encoded data removed]",
      "text/plain": [
       "<Figure size 432x288 with 1 Axes>"
      ]
     },
     "metadata": {
      "needs_background": "light"
     },
     "output_type": "display_data"
    },
    {
     "name": "stdout",
     "output_type": "stream",
     "text": [
      "median_house_values and  housing_median_age :\n",
      "coffecients: [0.10726769]\n",
      "Mean absolute error: 0.7811917932275048\n",
      "Mean squared error: 0.9929189050315225\n",
      "Sum Squared error: 8.453097989921016\n",
      "R Squared score: 0.010390921837471145\n",
      "\n"
     ]
    },
    {
     "data": {
      "image/png": "[encoded data removed]",
      "text/plain": [
       "<Figure size 432x288 with 1 Axes>"
      ]
     },
     "metadata": {
      "needs_background": "light"
     },
     "output_type": "display_data"
    },
    {
     "data": {
      "image/png": "[encoded data removed]",
      "text/plain": [
       "<Figure size 432x288 with 1 Axes>"
      ]
     },
     "metadata": {
      "needs_background": "light"
     },
     "output_type": "display_data"
    },
    {
     "name": "stdout",
     "output_type": "stream",
     "text": [
      "median_house_values and  total_rooms :\n",
      "coffecients: [0.13518288]\n",
      "Mean absolute error: 0.778025490510799\n",
      "Mean squared error: 0.9830971793333384\n",
      "Sum Squared error: 11.197282292418503\n",
      "R Squared score: 0.01953751430204209\n",
      "\n"
     ]
    },
    {
     "data": {
      "image/png": "[encoded data removed]",
      "text/plain": [
       "<Figure size 432x288 with 1 Axes>"
      ]
     },
     "metadata": {
      "needs_background": "light"
     },
     "output_type": "display_data"
    },
    {
     "data": {
      "image/png": "[encoded data removed]",
      "text/plain": [
       "<Figure size 432x288 with 1 Axes>"
      ]
     },
     "metadata": {
      "needs_background": "light"
     },
     "output_type": "display_data"
    },
    {
     "name": "stdout",
     "output_type": "stream",
     "text": [
      "median_house_values and  population :\n",
      "coffecients: [-0.0233777]\n",
      "Mean absolute error: 0.7807212988770379\n",
      "Mean squared error: 0.9889894516449371\n",
      "Sum Squared error: 1.777086507473184\n",
      "R Squared score: 0.0007045238546846688\n",
      "\n"
     ]
    },
    {
     "data": {
      "image/png": "[encoded data removed]",
      "text/plain": [
       "<Figure size 432x288 with 1 Axes>"
      ]
     },
     "metadata": {
      "needs_background": "light"
     },
     "output_type": "display_data"
    },
    {
     "data": {
      "image/png": "[encoded data removed]",
      "text/plain": [
       "<Figure size 432x288 with 1 Axes>"
      ]
     },
     "metadata": {
      "needs_background": "light"
     },
     "output_type": "display_data"
    },
    {
     "name": "stdout",
     "output_type": "stream",
     "text": [
      "median_house_values and  households :\n",
      "coffecients: [0.06676276]\n",
      "Mean absolute error: 0.7893665966335319\n",
      "Mean squared error: 1.0030358731024462\n",
      "Sum Squared error: 5.1430609064259745\n",
      "R Squared score: 0.003824956955023384\n",
      "\n"
     ]
    },
    {
     "data": {
      "image/png": "[encoded data removed]",
      "text/plain": [
       "<Figure size 432x288 with 1 Axes>"
      ]
     },
     "metadata": {
      "needs_background": "light"
     },
     "output_type": "display_data"
    },
    {
     "data": {
      "image/png": "[encoded data removed]",
      "text/plain": [
       "<Figure size 432x288 with 1 Axes>"
      ]
     },
     "metadata": {
      "needs_background": "light"
     },
     "output_type": "display_data"
    },
    {
     "name": "stdout",
     "output_type": "stream",
     "text": [
      "median_house_values and  median_income :\n",
      "coffecients: [0.68930663]\n",
      "Mean absolute error: 0.5468248645363958\n",
      "Mean squared error: 0.7333210203347097\n",
      "Sum Squared error: 53.41645063291649\n",
      "R Squared score: 0.458310191573019\n",
      "\n"
     ]
    },
    {
     "data": {
      "image/png": "[encoded data removed]",
      "text/plain": [
       "<Figure size 432x288 with 1 Axes>"
      ]
     },
     "metadata": {
      "needs_background": "light"
     },
     "output_type": "display_data"
    },
    {
     "data": {
      "image/png": "[encoded data removed]",
      "text/plain": [
       "<Figure size 432x288 with 1 Axes>"
      ]
     },
     "metadata": {
      "needs_background": "light"
     },
     "output_type": "display_data"
    },
    {
     "name": "stdout",
     "output_type": "stream",
     "text": [
      "median_house_values and  opn :\n",
      "coffecients: [-0.2183238]\n",
      "Mean absolute error: 0.7526996903043472\n",
      "Mean squared error: 0.9590245230749167\n",
      "Sum Squared error: 17.296415032814036\n",
      "R Squared score: 0.03741621955571928\n",
      "\n"
     ]
    },
    {
     "data": {
      "image/png": "[encoded data removed]",
      "text/plain": [
       "<Figure size 432x288 with 1 Axes>"
      ]
     },
     "metadata": {
      "needs_background": "light"
     },
     "output_type": "display_data"
    }
   ],
   "source": [
    "for i in cpd_shuffle.columns:\n",
    "    if(i!=\"median_house_value\"):\n",
    "        lr_individual_features(i)"
   ]
  },
  {
   "cell_type": "code",
   "execution_count": 16,
   "id": "66168c6a",
   "metadata": {},
   "outputs": [
    {
     "name": "stdout",
     "output_type": "stream",
     "text": [
      "       longitude  latitude  housing_median_age  total_rooms  population  \\\n",
      "7391    0.658705 -0.782743            1.538349    -0.725977   -0.558511   \n",
      "16980  -1.362774  0.907410            0.584852    -0.105320   -0.208822   \n",
      "7460    0.688653 -0.801471            0.584852    -0.586627    0.038433   \n",
      "14153   1.242688 -1.339885            0.187562    -0.717726   -0.882591   \n",
      "3099    0.943210  0.008492           -1.083767     0.029904   -0.159371   \n",
      "...          ...       ...                 ...          ...         ...   \n",
      "8732    0.623766 -0.838925            1.061601    -0.527037   -0.466673   \n",
      "8662    0.593818 -0.843607           -0.686477    -0.167661   -0.313905   \n",
      "9189    0.723592 -0.656333            1.856182    -1.009718   -1.128963   \n",
      "11775  -0.878618  1.469234           -2.037264     8.057637    6.124436   \n",
      "5732    0.688653 -0.689106            1.617807    -0.388604   -0.609728   \n",
      "\n",
      "       households  median_income       opn  \n",
      "7391    -0.741628      -1.164438 -0.544048  \n",
      "16980   -0.252510       0.484809 -1.714727  \n",
      "7460    -0.521917      -0.943359 -0.544048  \n",
      "14153   -0.906411       1.206526  1.797309  \n",
      "3099     0.035207      -0.286229  0.626631  \n",
      "...           ...            ...       ...  \n",
      "8732    -0.320516      -1.183230 -0.544048  \n",
      "8662     0.056132       0.310999 -0.544048  \n",
      "9189    -1.167972       0.046126  0.626631  \n",
      "11775    6.833168       0.186985  0.626631  \n",
      "5732    -0.610848       1.437132 -0.544048  \n",
      "\n",
      "[14448 rows x 8 columns]\n"
     ]
    },
    {
     "data": {
      "image/png": "[encoded data removed]",
      "text/plain": [
       "<Figure size 432x288 with 1 Axes>"
      ]
     },
     "metadata": {
      "needs_background": "light"
     },
     "output_type": "display_data"
    },
    {
     "name": "stdout",
     "output_type": "stream",
     "text": [
      "median_house_values and all features\n",
      "coffecients: [[-0.71177565 -0.77171787  0.11177147 -0.03539756 -0.41094303  0.48335114\n",
      "   0.62877159 -0.03014749]]\n",
      "Mean absolute error: 0.43950282114214295\n",
      "Mean squared error: 0.5922130801737613\n",
      "Sum Squared error: 62.686395947910476\n",
      "R Squared score: 0.6457257098744483\n",
      "\n"
     ]
    },
    {
     "data": {
      "image/png": "[encoded data removed]",
      "text/plain": [
       "<Figure size 432x288 with 1 Axes>"
      ]
     },
     "metadata": {
      "needs_background": "light"
     },
     "output_type": "display_data"
    }
   ],
   "source": [
    "multiv_regression()"
   ]
  },
  {
   "cell_type": "code",
   "execution_count": null,
   "id": "5d24647c",
   "metadata": {},
   "outputs": [],
   "source": [
    "#Lasso\n",
    "X = cpd_shuffle.loc[:,df.columns!='median_house_value']\n",
    "y = cpd_shuffle['median_house_value']\n",
    "kf = KFold(n_splits=5, random_state=42 , shuffle=True)\n",
    "\n",
    "for train_i, test_i in kf.split(X):\n",
    "    X_train, X_test = X.take(list(train_i),axis=0), X.take(list(test_i),axis=0)\n",
    "    y_train, y_test = y.take(list(train_i),axis=0), y.take(list(test_i),axis=0)\n",
    "\n",
    "l = Lasso(alpha=0.9, random_state=42)\n",
    "l.fit(X_train,y_train)\n",
    "l.fit(X_test,y_test)\n",
    "l.score(X_train , y_train)\n",
    "l.score(X_test , y_test)\n",
    "print(cpd_shuffle.DataFrame(las.coef , cpd_shuffle.columns[:-1] ,  columns=['Coeficient']))\n",
    "y_p_v_l =l.predict(X_test)\n",
    "df3 = cpd_shuffle.DataFrame({\"Y_test\": y_test , \"Y_pred3\" : y_p_v_l})\n",
    "\n",
    "R_Squared_Lasso = r2_score(y_test, y_predict_values_lasso)\n",
    "\n",
    "print(\"\\nR Squared Ridge\" + str(y_p_v_l) )\n",
    "\n",
    "# Stack vertically\n",
    "fig, ax = plt.subplots(nrows=2, ncols=1, sharex=True, figsize=(4,7))\n",
    "scores = cross_val_score(rid, cpd_shuffle.loc[:,cpd_shuffle.columns!='median_house_value'], cpd_shuffle['median_house_value'], scoring='neg_mean_absolute_error', cv=kf)\n",
    "\n",
    "print(\" \\033[91m Mean Scored \"+ str(scores.mean()) )\n",
    "\n",
    "standard_daviation_score = statistics.stdev(scores)\n",
    "print(\" \\033[92m Mean Standard daviation score \"+ str(standard_daviation_score) )\n",
    "\n",
    "\n",
    "ax[0].plot(df2[:50])\n",
    "plt.legend([\"Actual\" , \"Predicted\"])\n",
    "\n",
    "xTestPlot = np.array(X_test).reshape(-1,8)\n",
    "\n",
    "ax[1].scatter(xTestPlot[:,0], y_test, color=\"yellow\")\n",
    "ax[1].scatter(xTestPlot[:,1], y_test, color=\"red\")\n",
    "ax[1].scatter(xTestPlot[:,2], y_test, color=\"purple\")\n",
    "ax[1].scatter(xTestPlot[:,3], y_test, color=\"blue\")\n",
    "ax[1].scatter(xTestPlot[:,4], y_test, color=\"black\")\n",
    "ax[1].scatter(xTestPlot[:,5], y_test, color=\"cyan\")\n",
    "ax[1].scatter(xTestPlot[:,6], y_test, color=\"green\")\n",
    "ax[1].scatter(xTestPlot[:,7], y_test, color=\"pink\")\n",
    "\n",
    "ax[1].plot(xTestPlot, y_predicted_values, color=\"orange\")"
   ]
  },
  {
   "cell_type": "code",
   "execution_count": null,
   "id": "0b67861c",
   "metadata": {},
   "outputs": [],
   "source": [
    "def doMultivariateRidgeRegression(independent):\n",
    "    dependent = \"median_house_value\"\n",
    "    \n",
    "    k = KFold(n_splits = 5, random_state = 42, shuffle = True)\n",
    "    \n",
    "    xTrain = []\n",
    "    xTest = []\n",
    "\n",
    "    for ind in independent:\n",
    "        k.get_n_splits(housing[ind])\n",
    "        \n",
    "        x_train = []\n",
    "        x_test = []\n",
    "\n",
    "        for train_index, test_index in k.split(housing[ind]):\n",
    "            x_train.append(housing[ind][train_index])\n",
    "            x_test.append(housing[ind][test_index])\n",
    "        \n",
    "        xTrain.append(x_train)\n",
    "        xTest.append(x_test)\n",
    "        \n",
    "    k.get_n_splits(housing[dependent])\n",
    "        \n",
    "    y_train = [] \n",
    "    y_test = []\n",
    "    \n",
    "    for train_index, test_index in kf.split(housing[dependent]):\n",
    "        y_train.append(housing[dependent][train_index])\n",
    "        y_test.append(housing[dependent][test_index])\n",
    "        \n",
    "    ridge = Ridge(alpha = 0.7, random_state = 42)\n",
    "    ridge.fit(np.array(xTrain).reshape(-1,8), np.array(y_train).reshape(-1,1))\n",
    "    ridge.fit(np.array(xTest).reshape(-1,8), np.array(y_test).reshape(-1,1))\n",
    "\n",
    "    preds = ridge.predict(np.array(xTest).reshape(-1,8))\n",
    "    \n",
    "    res = preds - np.array(y_test).reshape(-1,1)\n",
    "\n",
    "    plt.hist(res)\n",
    "    plt.title(\"Multivariate Ridge Residuals\")\n",
    "    plt.show()\n",
    "    \n",
    "    mse = mse(np.array(y_test).reshape(-1,1), preds) ** 0.5\n",
    "    mae = mae(np.array(y_test).reshape(-1,1), preds)\n",
    "    sse = calc_sse(preds) ** 0.5\n",
    "    r2score = np.abs(r2_score(np.array(y_test).reshape(-1,1), preds))\n",
    "    \n",
    "    scores = cross_val_score(ridge, housing[independent], housing[dependent], scoring='neg_mean_absolute_error', cv=kf)\n",
    "    \n",
    "    scores_mean = scores.mean()\n",
    "    \n",
    "    scores_stdev = statistics.stdev(scores)\n",
    "    \n",
    "    print(\"MultivariateRidgeRegression coeffiecients: \" + str(ridge.coef_))\n",
    "    print(\"\")\n",
    "    print(\"MultivariateRidgeRegression sse: \" + str(sse))\n",
    "    print(\"\")\n",
    "    print(\"MultivariateRidgeRegression mae: \" + str(mae))\n",
    "    print(\"\")\n",
    "    print(\"MultivariateRidgeRegression mse: \" + str(mse))\n",
    "    print(\"\")\n",
    "    print(\"MultivariateRidgeRegression r^2 score: \" + str(r2score))\n",
    "    print(\"\")\n",
    "    print(\"MultivariateRidgeRegression cross_val_score: \" + str(scores_mean))\n",
    "    print(\"\")\n",
    "    print(\"MultivariateRidgeRegression cross_val_score stdev: \" + str(scores_stdev))\n",
    "    print(\"\")\n",
    "    print(\"\")\n",
    "    \n",
    "    xTestPlot = np.array(xTest).reshape(-1,8)\n",
    "\n",
    "    plt.scatter(xTestPlot[:,0], y_test, color=\"yellow\")\n",
    "    plt.scatter(xTestPlot[:,1], y_test, color=\"red\")\n",
    "    plt.scatter(xTestPlot[:,2], y_test, color=\"purple\")\n",
    "    plt.scatter(xTestPlot[:,3], y_test, color=\"blue\")\n",
    "    plt.scatter(xTestPlot[:,4], y_test, color=\"black\")\n",
    "    plt.scatter(xTestPlot[:,5], y_test, color=\"cyan\")\n",
    "    plt.scatter(xTestPlot[:,6], y_test, color=\"green\")\n",
    "    plt.scatter(xTestPlot[:,7], y_test, color=\"pink\")\n",
    "    \n",
    "    plt.plot(xTestPlot, preds, color=\"orange\")\n",
    "    plt.title(\"Multivariate Ridge Regression\")\n",
    "    plt.show()\n",
    "    \n",
    "    coef=[]\n",
    "    ap = range(0,40)\n",
    "    \n",
    "    for a in ap:\n",
    "      ridgereg=Ridge(ap=a)\n",
    "      ridgereg.fit(np.array(xTrain).reshape(-1,8), np.array(y_train).reshape(-1,1))\n",
    "      ridgereg.fit(np.array(xTest).reshape(-1,8), np.array(y_test).reshape(-1,1))\n",
    "      coef.append(ridgereg.coef_)\n",
    "  \n",
    "    ap_reshaped = np.array(ap).reshape(-1,1)\n",
    "    coef_reshaped = np.array(coef).reshape(-1,8)\n",
    "    \n",
    "    plt.plot(alphas_reshaped, coef_reshaped[:,0], color=\"yellow\")\n",
    "    plt.plot(alphas_reshaped, coef_reshaped[:,1], color=\"red\")\n",
    "    plt.plot(alphas_reshaped, coef_reshaped[:,2], color=\"purple\")\n",
    "    plt.plot(alphas_reshaped, coef_reshaped[:,3], color=\"blue\")\n",
    "    plt.plot(alphas_reshaped, coef_reshaped[:,4], color=\"black\")\n",
    "    plt.plot(alphas_reshaped, coef_reshaped[:,5], color=\"cyan\")\n",
    "    plt.plot(alphas_reshaped, coef_reshaped[:,6], color=\"green\")\n",
    "    plt.plot(alphas_reshaped, coef_reshaped[:,7], color=\"pink\")\n",
    "    plt.title(\"(Alpha Regularization Parameter) - (Predictor Coefficients)\")\n",
    "    plt.show()"
   ]
  },
  {
   "cell_type": "code",
   "execution_count": null,
   "id": "6c4b07f0",
   "metadata": {},
   "outputs": [],
   "source": [
    "doMultivariateLinearRegression(['longitude', 'latitude', 'housing_median_age', 'total_rooms', \"population\", \"households\", \"median_income\", \"ocean_proximity_quantitative\"])"
   ]
  }
 ],
 "metadata": {
  "kernelspec": {
   "display_name": "Python 3 (ipykernel)",
   "language": "python",
   "name": "python3"
  },
  "language_info": {
   "codemirror_mode": {
    "name": "ipython",
    "version": 3
   },
   "file_extension": ".py",
   "mimetype": "text/x-python",
   "name": "python",
   "nbconvert_exporter": "python",
   "pygments_lexer": "ipython3",
   "version": "3.9.7"
  }
 },
 "nbformat": 4,
 "nbformat_minor": 5
}
